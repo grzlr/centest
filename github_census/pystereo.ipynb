{
 "cells": [
  {
   "cell_type": "code",
   "execution_count": null,
   "metadata": {
    "collapsed": true
   },
   "outputs": [],
   "source": [
    "import os\n",
    "from util import load_pfm\n",
    "\n",
    "from PIL import Image\n",
    "import numpy as np\n",
    "from scipy.ndimage import filters"
   ]
  },
  {
   "cell_type": "code",
   "execution_count": null,
   "metadata": {
    "collapsed": true
   },
   "outputs": [],
   "source": [
    "DATASET_FOLDER = './MiddEval3/trainingQ'"
   ]
  },
  {
   "cell_type": "code",
   "execution_count": null,
   "metadata": {
    "collapsed": false
   },
   "outputs": [],
   "source": [
    "#%%time\n",
    "\n",
    "def im2col_sliding_broadcasting(A, BSZ, stepsize=1):\n",
    "    # Parameters\n",
    "    M,N = A.shape\n",
    "    col_extent = N - BSZ[1] + 1\n",
    "    row_extent = M - BSZ[0] + 1\n",
    "\n",
    "    # Get Starting block indices\n",
    "    start_idx = np.arange(BSZ[0])[:,None]*N + np.arange(BSZ[1])\n",
    "\n",
    "    # Get offsetted indices across the height and width of input array\n",
    "    offset_idx = np.arange(row_extent)[:,None]*N + np.arange(col_extent)\n",
    "\n",
    "    # Get all actual indices & index into input array for final output\n",
    "    return np.take (A,start_idx.ravel()[:,None] + offset_idx.ravel()[::stepsize])\n",
    "\n",
    "radius = 3\n",
    "diameter = 2*radius+1\n",
    "def census_transform(img,pairs):\n",
    "    if False:\n",
    "        img = np.sum(img,2)\n",
    "        res = np.zeros((img.shape[0],img.shape[1],len(pairs)),np.int)\n",
    "        l_comp = [p[0] for p in pairs]\n",
    "        r_comp = [p[1] for p in pairs]\n",
    "        l_comp_x = np.array([x[0] for x in l_comp])\n",
    "        l_comp_y = np.array([x[1] for x in l_comp])\n",
    "        r_comp_x = np.array([x[0] for x in r_comp])\n",
    "        r_comp_y = np.array([x[1] for x in r_comp])\n",
    "        for y in xrange(radius,img.shape[0]-radius-1):\n",
    "            for x in xrange(radius,img.shape[1]-radius-1):\n",
    "                p1 = img[l_comp_y + y,l_comp_x + x]\n",
    "                p2 = img[r_comp_y + y,r_comp_x + x]\n",
    "                res[y,x,:] = p1 > p2\n",
    "        return res\n",
    "    imgp = np.pad(np.sum(img,2),radius,'edge')\n",
    "    i2m = im2col(imgp,[diameter,diameter])\n",
    "    p12 = i2m > i2m[(diameter*diameter-1)/2,:]\n",
    "    cen = p12[pairs,:].T\n",
    "    cen = cen.reshape([img.shape[0],img.shape[1],len(pairs)])\n",
    "    return cen\n",
    "def census_match(left,right,max_disp,c_pairs):\n",
    "    lc = census_transform(left,c_pairs)\n",
    "    rc = census_transform(right,c_pairs)\n",
    "    \n",
    "    x_idx = np.array([(x-np.arange(max_disp)).clip(0) for x in xrange(lc.shape[1])])\n",
    "    i_idx = np.array([ x-np.zeros(max_disp,dtype=np.int) for x in xrange(lc.shape[1])])\n",
    "    lc_pad = lc[:,i_idx,:]\n",
    "    rc_pad = rc[:,x_idx,:]\n",
    "    costs = np.sum(lc_pad != rc_pad,3)\n",
    "\n",
    "    return costs\n",
    "\n",
    "#full_pairs = [((0,0),(int(i/diameter)-radius,i%diameter-radius)) for i in range(diameter*diameter)]\n",
    "#pairs = [x for idx,x in enumerate(full_pairs) if idx%2==0 and x != ((0,0),(0,0))]\n",
    "pairs = [i for i in range(diameter*diameter) if i%2 == 0 and i != (diameter*diameter-1)/2]\n",
    "for image in os.listdir(DATASET_FOLDER): #['Motorcycle']:#\n",
    "    fold_path = os.path.join(DATASET_FOLDER,image)\n",
    "    gt_file = os.path.join(fold_path,'disp0GT.pfm')\n",
    "    l_file = os.path.join(fold_path,'im0.png')\n",
    "    r_file = os.path.join(fold_path,'im1.png')\n",
    "    mask_file = os.path.join(fold_path,'mask0nocc.png')\n",
    "    calib_file = os.path.join(fold_path,'calib.txt')\n",
    "\n",
    "    if os.path.exists(gt_file):\n",
    "        l = np.array(Image.open(l_file))\n",
    "        r = np.array(Image.open(r_file))\n",
    "        gt = load_pfm(gt_file)[0]\n",
    "        mask = np.array(Image.open(mask_file))\n",
    "        with open(calib_file) as fp:\n",
    "            calib = {x.split('=')[0]:'='.join(x.split('=')[1:]) for x in fp.readlines()}\n",
    "        if True:\n",
    "            costs = census_match(l,r,int(calib['ndisp']),pairs)\n",
    "            box_costs = filters.uniform_filter(costs,7)\n",
    "            best = np.argmin(box_costs,2)\n",
    "            plt.imshow(best)\n",
    "            plt.figure()\n",
    "            plt.imshow(gt)\n",
    "            plt.show()  "
   ]
  },
  {
   "cell_type": "code",
   "execution_count": null,
   "metadata": {
    "collapsed": false
   },
   "outputs": [],
   "source": [
    "%%time\n",
    "costs = census_match(l,r,int(calib['ndisp']),pairs)\n",
    "box_costs = filters.uniform_filter(costs,7)\n",
    "best = np.argmin(box_costs,2)\n",
    "plt.imshow(best)\n",
    "plt.show()"
   ]
  },
  {
   "cell_type": "code",
   "execution_count": null,
   "metadata": {
    "collapsed": true
   },
   "outputs": [],
   "source": []
  }
 ],
 "metadata": {
  "kernelspec": {
   "display_name": "Python 2",
   "language": "python",
   "name": "python2"
  },
  "language_info": {
   "codemirror_mode": {
    "name": "ipython",
    "version": 2
   },
   "file_extension": ".py",
   "mimetype": "text/x-python",
   "name": "python",
   "nbconvert_exporter": "python",
   "pygments_lexer": "ipython2",
   "version": "2.7.12"
  }
 },
 "nbformat": 4,
 "nbformat_minor": 2
}
