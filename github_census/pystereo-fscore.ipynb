{
 "cells": [
  {
   "cell_type": "code",
   "execution_count": 1,
   "metadata": {
    "collapsed": true
   },
   "outputs": [],
   "source": [
    "import numpy as np\n",
    "import os\n",
    "import re\n",
    "import matplotlib.colors as colors\n",
    "\n",
    "from scipy.ndimage import filters"
   ]
  },
  {
   "cell_type": "code",
   "execution_count": 2,
   "metadata": {
    "collapsed": true
   },
   "outputs": [],
   "source": [
    "i = 0\n",
    "l = np.load('l{0}.npy'.format(i)).astype(np.float)\n",
    "gt = np.load('g{0}.npy'.format(i)).astype(np.float)\n",
    "costs = np.load('b{0}.npy'.format(i)).astype(np.float)\n",
    "box_costs = (filters.uniform_filter(costs,[7,7,1],mode='nearest')*(7*7)).astype(np.int)"
   ]
  },
  {
   "cell_type": "code",
   "execution_count": 126,
   "metadata": {
    "collapsed": false
   },
   "outputs": [
    {
     "name": "stderr",
     "output_type": "stream",
     "text": [
      "C:\\Anaconda2\\lib\\site-packages\\ipykernel\\__main__.py:59: VisibleDeprecationWarning: boolean index did not match indexed array along dimension 0; dimension is 356128 but corresponding boolean dimension is 354918\n"
     ]
    }
   ],
   "source": [
    "def subpixel_f(left,cent,right):\n",
    "    num = right - left\n",
    "    den = (cent-left) if (right < left) else (cent-right)\n",
    "    return 0.0 if den == 0 else 0.5*(num/float(den))\n",
    "def second_peak_f(corr_v,best,max_cost):\n",
    "    sp = max_cost\n",
    "    for i in xrange(0,corr_v.shape[0]-1):\n",
    "        if i!=best and corr_v[i] < corr_v[i-1] and corr_v[i] < corr_v[i+1]:\n",
    "            if corr_v[i] < sp:\n",
    "                sp = corr_v[i]\n",
    "    return sp\n",
    "                \n",
    "        \n",
    "def stereo_features(costs,gt):\n",
    "    height,width,mdisp = costs.shape\n",
    "    \n",
    "    best = np.argmin(costs,2)\n",
    "    bestr = np.zeros_like(best)\n",
    "    bestlS = np.zeros_like(best).astype(np.float)\n",
    "    bestrS = np.zeros_like(best).astype(np.float)\n",
    "    l_r_match = np.zeros_like(best).astype(np.float)\n",
    "\n",
    "    for ri,row in enumerate(costs):\n",
    "        for ci,col in enumerate(row):\n",
    "            lim = min(width,ci+mdisp)-ci\n",
    "            rv, r_min = min([(costs[ri,ci+i,i],i) for i in xrange(0,lim)])\n",
    "            bestr[ri,ci] = r_min\n",
    "            shift = 0.0\n",
    "            if r_min >0 and r_min < lim-1:\n",
    "                rminl = r_min -1\n",
    "                rminr = r_min + 1\n",
    "                shift = subpixel_f(costs[ri,ci+rminl,rminl],costs[ri,ci+r_min,r_min],costs[ri,ci+rminr,rminr])\n",
    "            bestrS[ri,ci] = r_min + shift\n",
    "    for ri,row in enumerate(costs):\n",
    "        for ci,col in enumerate(row):\n",
    "            l_min = best[ri,ci]\n",
    "            shift = 0.0\n",
    "            if l_min >0 and l_min < mdisp-1:\n",
    "                lminl = l_min -1\n",
    "                lminr = l_min + 1\n",
    "                shift = subpixel_f(costs[ri,ci,lminl],costs[ri,ci,l_min],costs[ri,ci,lminr])\n",
    "            bestlS[ri,ci] = l_min + shift\n",
    "    for ri,row in enumerate(costs):\n",
    "        for ci,col in enumerate(row):\n",
    "            l_min = best[ri,ci]\n",
    "            l_minS = bestlS[ri,ci]\n",
    "            r_minS = bestrS[ri,ci-l_min]\n",
    "            l_r_match[ri,ci] = abs(l_minS-r_minS)\n",
    "    \n",
    "    costs = costs.reshape([-1,mdisp])\n",
    "    gt = gt.reshape([-1])\n",
    "    l_r_match = l_r_match.reshape([-1])\n",
    "    n = gt.shape[0]\n",
    "    \n",
    "    idx = np.where(gt != -2)[0]\n",
    "    costs = costs[gt != -2]\n",
    "    max_cost = costs.max()\n",
    "    gt = gt[gt != -2]\n",
    "    l_r_match = l_r_match[gt != -2]\n",
    "    best = np.argmax(costs,1)\n",
    "    \n",
    "    valid = (gt != -1).astype(np.int)\n",
    "    est_correct = (best == np.round(gt)).astype(np.int)\n",
    "    \n",
    "    minv = np.min(costs,1)\n",
    "    maxv = np.max(costs,1)\n",
    "    median = np.median(costs,1)\n",
    "    left_d  = np.array([costs[idx,v-1]-costs[idx,v] if v > 0       else max_cost for idx,v in enumerate(best)])\n",
    "    right_d = np.array([costs[idx,v+1]-costs[idx,v] if v < mdisp-1 else max_cost for idx,v in enumerate(best)])\n",
    "    second_peak  = np.array([second_peak_f(costs[idx,:],v,max_cost) for idx,v in enumerate(best)])\n",
    "    \n",
    "    return np.vstack([valid,est_correct,minv,maxv,median,left_d,right_d,l_r_match,second_peak])\n",
    "    \n",
    "ft = stereo_features(box_costs,gt).T"
   ]
  },
  {
   "cell_type": "code",
   "execution_count": 131,
   "metadata": {
    "collapsed": false
   },
   "outputs": [
    {
     "name": "stdout",
     "output_type": "stream",
     "text": [
      "[   0.    0.    0.    0.    0. -553. -511.    0.    0.]\n",
      "[  1.00000000e+00   1.00000000e+00   7.22000000e+02   1.13200000e+03\n",
      "   9.01000000e+02   1.13200000e+03   1.13200000e+03   7.20000000e+01\n",
      "   1.13200000e+03]\n",
      "[  9.16025674e-01   5.91685967e-04   2.42227438e+02   7.32355214e+02\n",
      "   5.41955984e+02   3.44312771e+00  -1.45779786e+01   4.05303926e+00\n",
      "   2.49582163e+02]\n"
     ]
    }
   ],
   "source": [
    "ft.shape\n",
    "ft[0,:]\n",
    "x_min = np.min(ft,0)\n",
    "x_max = np.max(ft,0)\n",
    "x_mean = np.mean(ft,0)\n",
    "print x_min\n",
    "print x_max\n",
    "print x_mean\n",
    "\n",
    "#x_initial = np.array([0,512,256,50,50,0."
   ]
  },
  {
   "cell_type": "code",
   "execution_count": null,
   "metadata": {
    "collapsed": true
   },
   "outputs": [],
   "source": [
    "data = []\n",
    "i = 0\n",
    "     \n",
    "while True:\n",
    "    try:\n",
    "        l = np.load('l{0}.npy'.format(i)).astype(np.float)\n",
    "        gt = np.load('g{0}.npy'.format(i)).astype(np.float)\n",
    "        costs = np.load('b{0}.npy'.format(i)).astype(np.float)\n",
    "        #acosts = np.load('a{0}.npy'.format(i)).astype(np.float)\n",
    "        box_costs = (filters.uniform_filter(costs,[7,7,1],mode='nearest')*(7*7)).astype(np.int)\n",
    "\n",
    "        best = np.argmin(box_costs,2)\n",
    "    except:\n",
    "        break"
   ]
  }
 ],
 "metadata": {
  "kernelspec": {
   "display_name": "Python 2",
   "language": "python",
   "name": "python2"
  },
  "language_info": {
   "codemirror_mode": {
    "name": "ipython",
    "version": 2
   },
   "file_extension": ".py",
   "mimetype": "text/x-python",
   "name": "python",
   "nbconvert_exporter": "python",
   "pygments_lexer": "ipython2",
   "version": "2.7.13"
  }
 },
 "nbformat": 4,
 "nbformat_minor": 2
}
